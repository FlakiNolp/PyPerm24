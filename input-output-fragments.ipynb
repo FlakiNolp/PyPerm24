{
 "cells": [
  {
   "cell_type": "markdown",
   "metadata": {},
   "source": [
    "## Ввод и вывод, методы на строках: разбор задач\n",
    "\n",
    "*Тамбовцева А.А.*"
   ]
  },
  {
   "cell_type": "markdown",
   "metadata": {},
   "source": [
    "### Задача 1\n",
    "\n",
    "Чип и Дейл собирают орехи, чтобы Спасатели (а их в команде пятеро) смогли ими перекусить во время совместного вечернего просмотра фильма о пришельцах. Спасатели всегда делят орехи поровну.\n",
    "\n",
    "Напишите программу, которая запрашивает с клавиатуры число орехов, набранное Чипом и Дейлом по-отдельности (два целых числа через пробел) и выводит на экран через пробел число орехов, которое достанется каждому из Спасателей, и число орехов, которое при таком дележе останется.\n",
    "\n",
    "**Пример работы программы**\n",
    "\n",
    "Ввод:\n",
    "\n",
    "    20 30\n",
    "\n",
    "Вывод:\n",
    "\n",
    "    10 0\n",
    "\n",
    "Ввод:\n",
    "\n",
    "    30 12\n",
    "\n",
    "Вывод:\n",
    "\n",
    "    8 2\n",
    "\n",
    "Ввод:\n",
    "\n",
    "    62 34\n",
    "\n",
    "Вывод:\n",
    "\n",
    "    19 1"
   ]
  },
  {
   "cell_type": "markdown",
   "metadata": {},
   "source": [
    "Решение 1:"
   ]
  },
  {
   "cell_type": "code",
   "execution_count": 1,
   "metadata": {},
   "outputs": [
    {
     "name": "stdout",
     "output_type": "stream",
     "text": [
      "62 34\n",
      "19 1\n"
     ]
    }
   ],
   "source": [
    "# запрашиваем информацию с клавиатуры\n",
    "nuts = input()\n",
    "\n",
    "# разбиваем значения по пробелу и получаем спискок строк\n",
    "nuts_L = nuts.split()\n",
    "\n",
    "# выбираем элементы и превращаем их в целые числа\n",
    "# считаем их сумму\n",
    "\n",
    "S = int(nuts_L[0]) + int(nuts_L[1])\n",
    "\n",
    "# находим результат целочисленного деления\n",
    "# и остаток от деления\n",
    "\n",
    "print(S // 5, S % 5)"
   ]
  },
  {
   "cell_type": "markdown",
   "metadata": {},
   "source": [
    "Решение 2:"
   ]
  },
  {
   "cell_type": "code",
   "execution_count": 2,
   "metadata": {},
   "outputs": [
    {
     "name": "stdout",
     "output_type": "stream",
     "text": [
      "62 34\n",
      "19 1\n"
     ]
    }
   ],
   "source": [
    "# запрашиваем информацию с клавиатуры\n",
    "# сразу разбиваем и через map() превращаем строки в числа\n",
    "# находим сумму и нужные результаты\n",
    "\n",
    "nuts = list(map(int, input().split()))\n",
    "print(sum(nuts) // 5, sum(nuts) % 5)"
   ]
  },
  {
   "cell_type": "markdown",
   "metadata": {},
   "source": [
    "### Задача 2\n",
    "\n",
    "Напишите программу, которая запрашивает с клавиатуры два целых числа через пробел (назовём их $a$ и $b$) и выводит на экран перечень целых чисел от $a$ до $b$ включительно.\n",
    "\n",
    "**Пример работы программы**\n",
    "\n",
    "Ввод:\n",
    "\n",
    "    2 7\n",
    "\n",
    "Вывод:\n",
    "\n",
    "    2 3 4 5 6 7"
   ]
  },
  {
   "cell_type": "code",
   "execution_count": 3,
   "metadata": {},
   "outputs": [
    {
     "name": "stdout",
     "output_type": "stream",
     "text": [
      "2 7\n",
      "2 3 4 5 6 7\n"
     ]
    }
   ],
   "source": [
    "# запрашиваем информацию с клавиатуры и разбиваем\n",
    "\n",
    "inp = input().split()\n",
    "\n",
    "# выбираем элементы и превращаем их в целые числа\n",
    "\n",
    "a, b = int(inp[0]), int(inp[1]) \n",
    "\n",
    "# создаем последовательность чисел через range()\n",
    "# распаковываем ее элементы и выводим на экран\n",
    "\n",
    "print(*range(a, b + 1))"
   ]
  },
  {
   "cell_type": "markdown",
   "metadata": {},
   "source": [
    "**Примечание:** сочетание оператора `*` и `print()` позволяет «распаковывать» элементы последовательностей разного вида и выводить их на экран с желаемым разделителем без лишних ограничительных скобок. Примеры:"
   ]
  },
  {
   "cell_type": "code",
   "execution_count": 4,
   "metadata": {},
   "outputs": [
    {
     "name": "stdout",
     "output_type": "stream",
     "text": [
      "[1, 6, 8, 0]\n",
      "1 6 8 0\n",
      "1-6-8-0\n"
     ]
    }
   ],
   "source": [
    "# пример простого списка\n",
    "\n",
    "L = [1, 6, 8, 0]\n",
    "\n",
    "print(L)\n",
    "print(*L)\n",
    "print(*L, sep = \"-\")"
   ]
  },
  {
   "cell_type": "code",
   "execution_count": 5,
   "metadata": {},
   "outputs": [
    {
     "name": "stdout",
     "output_type": "stream",
     "text": [
      "[[1, 3, 7], [0, 2, 3], [4, 5, 5]]\n",
      "[1, 3, 7] [0, 2, 3] [4, 5, 5]\n"
     ]
    }
   ],
   "source": [
    "# пример списка списков\n",
    "\n",
    "nested = [[1, 3, 7], [0, 2, 3], [4, 5, 5]]\n",
    "print(nested)\n",
    "print(*nested)"
   ]
  },
  {
   "cell_type": "code",
   "execution_count": 6,
   "metadata": {},
   "outputs": [
    {
     "name": "stdout",
     "output_type": "stream",
     "text": [
      "<zip object at 0x10e8aa460>\n",
      "('A', 'a') ('B', 'b') ('C', 'c')\n"
     ]
    }
   ],
   "source": [
    "# пример zip(), его даже не надо превращать в список\n",
    "\n",
    "L1 = [\"A\", \"B\", \"C\"]\n",
    "L2 = [\"a\", \"b\", \"c\"]\n",
    "\n",
    "print(zip(L1, L2))\n",
    "print(*zip(L1, L2))"
   ]
  },
  {
   "cell_type": "markdown",
   "metadata": {},
   "source": [
    "Без оператора эту задачу тоже можно решить, но нужно применять `.join()`, а он умеет склеивать только списки *строк*. "
   ]
  },
  {
   "cell_type": "code",
   "execution_count": 7,
   "metadata": {},
   "outputs": [
    {
     "name": "stdout",
     "output_type": "stream",
     "text": [
      "2 3 4 5 6 7\n",
      "2 3 4 5 6 7\n"
     ]
    }
   ],
   "source": [
    "# range() создает список чисел,\n",
    "# надо перевести типы элементов\n",
    "\n",
    "print(\" \".join([str(i) for i in range(a, b + 1)]))\n",
    "print(\" \".join(list(map(str, range(a, b + 1)))))"
   ]
  }
 ],
 "metadata": {
  "kernelspec": {
   "display_name": "Python 3",
   "language": "python",
   "name": "python3"
  },
  "language_info": {
   "codemirror_mode": {
    "name": "ipython",
    "version": 3
   },
   "file_extension": ".py",
   "mimetype": "text/x-python",
   "name": "python",
   "nbconvert_exporter": "python",
   "pygments_lexer": "ipython3",
   "version": "3.7.4"
  }
 },
 "nbformat": 4,
 "nbformat_minor": 2
}
