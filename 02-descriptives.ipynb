{
 "cells": [
  {
   "cell_type": "markdown",
   "metadata": {},
   "source": [
    "# Анализ данных на Python\n",
    "\n",
    "*Алла Тамбовцева, НИУ ВШЭ*\n",
    "\n",
    "## Описание выборки, сохранённой внутри массива"
   ]
  },
  {
   "cell_type": "markdown",
   "metadata": {},
   "source": [
    "Для работы нам снова понадобится библиотека `numpy` (от *Numeric Python*, библиотека для эффективной работы с числовыми массивами):"
   ]
  },
  {
   "cell_type": "code",
   "execution_count": 1,
   "metadata": {},
   "outputs": [],
   "source": [
    "import numpy as np"
   ]
  },
  {
   "cell_type": "markdown",
   "metadata": {},
   "source": [
    "Создадим массив NumPy со средними ценами на бензин марки А-92 в регионах Сибирского федерального округа по состоянию на январь 2023 года (Республика Алтай, Республика Тыва, Республика Хакасия, Алтайский край, Красноярский край, Иркутская область, Кемеровская область, Новосибирская область, Омская область, Томская область):"
   ]
  },
  {
   "cell_type": "code",
   "execution_count": 2,
   "metadata": {},
   "outputs": [],
   "source": [
    "sample = np.array([46.76, 45.98, 45.82, 44.72, 46.13, \n",
    "                 47.99, 44.60, 45.81, 44.91, 44.95])"
   ]
  },
  {
   "cell_type": "markdown",
   "metadata": {},
   "source": [
    "В библиотеке NumPy есть ряд методов и функций, которые позволяют описывать выборки."
   ]
  },
  {
   "cell_type": "code",
   "execution_count": 3,
   "metadata": {},
   "outputs": [
    {
     "name": "stdout",
     "output_type": "stream",
     "text": [
      "Минимум: 44.6\n",
      "Максимум: 47.99\n"
     ]
    }
   ],
   "source": [
    "# минимум и максимум\n",
    "\n",
    "print(\"Минимум:\", sample.min())\n",
    "print(\"Максимум:\", sample.max())"
   ]
  },
  {
   "cell_type": "code",
   "execution_count": 4,
   "metadata": {},
   "outputs": [
    {
     "name": "stdout",
     "output_type": "stream",
     "text": [
      "Среднее: 45.76699999999999\n"
     ]
    }
   ],
   "source": [
    "# среднее арифметическое\n",
    "\n",
    "print(\"Среднее:\", sample.mean())"
   ]
  },
  {
   "cell_type": "markdown",
   "metadata": {},
   "source": [
    "Для выборочной дисперсии есть разные формулы подсчёта, смещённая оценка (с $n$ в знаменателе, менее хорошая) и несмещённая оценка (с $n-1$ в знаменателе, более хорошая), поэтому Python умеет считать сразу обе. По умолчанию он считает смещённую оценку:"
   ]
  },
  {
   "cell_type": "code",
   "execution_count": 5,
   "metadata": {},
   "outputs": [
    {
     "name": "stdout",
     "output_type": "stream",
     "text": [
      "Дисперсия (деление на n): 0.9969610000000004\n"
     ]
    }
   ],
   "source": [
    "# выборочная дисперсия (смещенная оценка)\n",
    "\n",
    "print(\"Дисперсия (деление на n):\", sample.var())"
   ]
  },
  {
   "cell_type": "markdown",
   "metadata": {},
   "source": [
    "Для несмещённой оценки, которая используется чаще, нужно добавить аргумент `ddof = 1`, отвечающий за число, которое необходимо вычесть из объёма выборки $n$ при усреднении суммы квадратов отклонения от среднего:"
   ]
  },
  {
   "cell_type": "code",
   "execution_count": 6,
   "metadata": {},
   "outputs": [
    {
     "name": "stdout",
     "output_type": "stream",
     "text": [
      "Дисперсия (деление на n-1): 1.107734444444445\n"
     ]
    }
   ],
   "source": [
    "# выборочная дисперсия (несмещенная оценка)\n",
    "# ddof – от degrees of freedom, степени свободы\n",
    "# здесь число степеней свободы n - 1,\n",
    "# сколько наблюдений достаточно знать, чтобы,\n",
    "# зная среднее, восстановить всю выборку\n",
    "\n",
    "print(\"Дисперсия (деление на n-1):\", sample.var(ddof = 1))"
   ]
  },
  {
   "cell_type": "markdown",
   "metadata": {},
   "source": [
    "Со стандартным отклонением та же история:"
   ]
  },
  {
   "cell_type": "code",
   "execution_count": 7,
   "metadata": {},
   "outputs": [
    {
     "name": "stdout",
     "output_type": "stream",
     "text": [
      "Стандартное отклонение: 1.0524896410152667\n"
     ]
    }
   ],
   "source": [
    "# выборочное стандартное отклонение\n",
    "\n",
    "print(\"Стандартное отклонение:\", sample.std(ddof = 1))"
   ]
  },
  {
   "cell_type": "markdown",
   "metadata": {},
   "source": [
    "Медиану и квартили выборки Python считать тоже умеет, только в библиотеке NumPy эти статистики считаются не с помощью методов (указываются после названия массива через точку), а с помощью функций (вызываются из самой библиотеки `numpy`, указываются перед названием массива):"
   ]
  },
  {
   "cell_type": "code",
   "execution_count": 8,
   "metadata": {},
   "outputs": [
    {
     "name": "stdout",
     "output_type": "stream",
     "text": [
      "Медиана: 45.815\n",
      "Нижний квартиль: 44.92\n",
      "Верхний квартиль: 46.0925\n"
     ]
    }
   ],
   "source": [
    "# выборочная медиана и выборочные квартили\n",
    "# функция np.median()\n",
    "# функция np.quantile()\n",
    "\n",
    "print(\"Медиана:\", np.median(sample))\n",
    "print(\"Нижний квартиль:\", np.quantile(sample, 0.25))\n",
    "print(\"Верхний квартиль:\", np.quantile(sample, 0.75))"
   ]
  },
  {
   "cell_type": "markdown",
   "metadata": {},
   "source": [
    "**Интерпретация.** Выборка, конечно, очень маленькая, но это все регионы Сибирского ФО, больше там не найдём, поэтому можем заключить, что:\n",
    "\n",
    "* в 50% случаев цены на бензин в Сибирском ФО не превышают 45.82 рублей;\n",
    "* в 25% цены на бензин в Сибирском ФО не превышают 44.92 рублей;\n",
    "* в 75% цены на бензин в Сибирском ФО не превышают 46.09 рублей.\n",
    "\n",
    "**NB.** В NumPy нет готовой функции для поиска нехарактерных значений, границы характерных значений можно вычислить самостоятельно на основе квартилей, а затем отфильтровать наблюдения, выходящие за эти границы."
   ]
  },
  {
   "cell_type": "markdown",
   "metadata": {},
   "source": [
    "Функция `quantile()` может принимать на вход сразу несколько уровней квантилей в виде переченя:"
   ]
  },
  {
   "cell_type": "code",
   "execution_count": 9,
   "metadata": {},
   "outputs": [
    {
     "name": "stdout",
     "output_type": "stream",
     "text": [
      "[44.92   46.0925]\n"
     ]
    }
   ],
   "source": [
    "print(np.quantile(sample, [0.25, 0.75]))"
   ]
  },
  {
   "cell_type": "code",
   "execution_count": 10,
   "metadata": {},
   "outputs": [
    {
     "name": "stdout",
     "output_type": "stream",
     "text": [
      "[44.6    44.92   45.815  46.0925 47.99  ]\n"
     ]
    }
   ],
   "source": [
    "# функция arange() как range(), \n",
    "# только работает и с дробным шагом тоже\n",
    "\n",
    "print(np.quantile(sample, np.arange(0, 1.25, 0.25)))"
   ]
  },
  {
   "cell_type": "markdown",
   "metadata": {},
   "source": [
    "В коде выше мы получили минимум, нижний квартиль, медиану, верхний квартиль и максимум.\n",
    "\n",
    "**NB.** Алгоритмов нахождения квантилей (и квартилей, в частности) существует много, стоит иметь это в виду и не удивляться расхождениям результатов, полученных в Python и других средах. По любой функции/методу можно запросить справку:"
   ]
  },
  {
   "cell_type": "code",
   "execution_count": 11,
   "metadata": {},
   "outputs": [
    {
     "name": "stdout",
     "output_type": "stream",
     "text": [
      "Help on function quantile in module numpy:\n",
      "\n",
      "quantile(a, q, axis=None, out=None, overwrite_input=False, interpolation='linear', keepdims=False)\n",
      "    Compute the q-th quantile of the data along the specified axis.\n",
      "    \n",
      "    .. versionadded:: 1.15.0\n",
      "    \n",
      "    Parameters\n",
      "    ----------\n",
      "    a : array_like\n",
      "        Input array or object that can be converted to an array.\n",
      "    q : array_like of float\n",
      "        Quantile or sequence of quantiles to compute, which must be between\n",
      "        0 and 1 inclusive.\n",
      "    axis : {int, tuple of int, None}, optional\n",
      "        Axis or axes along which the quantiles are computed. The\n",
      "        default is to compute the quantile(s) along a flattened\n",
      "        version of the array.\n",
      "    out : ndarray, optional\n",
      "        Alternative output array in which to place the result. It must\n",
      "        have the same shape and buffer length as the expected output,\n",
      "        but the type (of the output) will be cast if necessary.\n",
      "    overwrite_input : bool, optional\n",
      "        If True, then allow the input array `a` to be modified by intermediate\n",
      "        calculations, to save memory. In this case, the contents of the input\n",
      "        `a` after this function completes is undefined.\n",
      "    interpolation : {'linear', 'lower', 'higher', 'midpoint', 'nearest'}\n",
      "        This optional parameter specifies the interpolation method to\n",
      "        use when the desired quantile lies between two data points\n",
      "        ``i < j``:\n",
      "    \n",
      "            * linear: ``i + (j - i) * fraction``, where ``fraction``\n",
      "              is the fractional part of the index surrounded by ``i``\n",
      "              and ``j``.\n",
      "            * lower: ``i``.\n",
      "            * higher: ``j``.\n",
      "            * nearest: ``i`` or ``j``, whichever is nearest.\n",
      "            * midpoint: ``(i + j) / 2``.\n",
      "    keepdims : bool, optional\n",
      "        If this is set to True, the axes which are reduced are left in\n",
      "        the result as dimensions with size one. With this option, the\n",
      "        result will broadcast correctly against the original array `a`.\n",
      "    \n",
      "    Returns\n",
      "    -------\n",
      "    quantile : scalar or ndarray\n",
      "        If `q` is a single quantile and `axis=None`, then the result\n",
      "        is a scalar. If multiple quantiles are given, first axis of\n",
      "        the result corresponds to the quantiles. The other axes are\n",
      "        the axes that remain after the reduction of `a`. If the input\n",
      "        contains integers or floats smaller than ``float64``, the output\n",
      "        data-type is ``float64``. Otherwise, the output data-type is the\n",
      "        same as that of the input. If `out` is specified, that array is\n",
      "        returned instead.\n",
      "    \n",
      "    See Also\n",
      "    --------\n",
      "    mean\n",
      "    percentile : equivalent to quantile, but with q in the range [0, 100].\n",
      "    median : equivalent to ``quantile(..., 0.5)``\n",
      "    nanquantile\n",
      "    \n",
      "    Notes\n",
      "    -----\n",
      "    Given a vector ``V`` of length ``N``, the q-th quantile of\n",
      "    ``V`` is the value ``q`` of the way from the minimum to the\n",
      "    maximum in a sorted copy of ``V``. The values and distances of\n",
      "    the two nearest neighbors as well as the `interpolation` parameter\n",
      "    will determine the quantile if the normalized ranking does not\n",
      "    match the location of ``q`` exactly. This function is the same as\n",
      "    the median if ``q=0.5``, the same as the minimum if ``q=0.0`` and the\n",
      "    same as the maximum if ``q=1.0``.\n",
      "    \n",
      "    Examples\n",
      "    --------\n",
      "    >>> a = np.array([[10, 7, 4], [3, 2, 1]])\n",
      "    >>> a\n",
      "    array([[10,  7,  4],\n",
      "           [ 3,  2,  1]])\n",
      "    >>> np.quantile(a, 0.5)\n",
      "    3.5\n",
      "    >>> np.quantile(a, 0.5, axis=0)\n",
      "    array([6.5, 4.5, 2.5])\n",
      "    >>> np.quantile(a, 0.5, axis=1)\n",
      "    array([7.,  2.])\n",
      "    >>> np.quantile(a, 0.5, axis=1, keepdims=True)\n",
      "    array([[7.],\n",
      "           [2.]])\n",
      "    >>> m = np.quantile(a, 0.5, axis=0)\n",
      "    >>> out = np.zeros_like(m)\n",
      "    >>> np.quantile(a, 0.5, axis=0, out=out)\n",
      "    array([6.5, 4.5, 2.5])\n",
      "    >>> m\n",
      "    array([6.5, 4.5, 2.5])\n",
      "    >>> b = a.copy()\n",
      "    >>> np.quantile(b, 0.5, axis=1, overwrite_input=True)\n",
      "    array([7.,  2.])\n",
      "    >>> assert not np.all(a == b)\n",
      "\n"
     ]
    }
   ],
   "source": [
    "help(np.quantile)"
   ]
  }
 ],
 "metadata": {
  "kernelspec": {
   "display_name": "Python 3",
   "language": "python",
   "name": "python3"
  },
  "language_info": {
   "codemirror_mode": {
    "name": "ipython",
    "version": 3
   },
   "file_extension": ".py",
   "mimetype": "text/x-python",
   "name": "python",
   "nbconvert_exporter": "python",
   "pygments_lexer": "ipython3",
   "version": "3.7.4"
  }
 },
 "nbformat": 4,
 "nbformat_minor": 2
}
